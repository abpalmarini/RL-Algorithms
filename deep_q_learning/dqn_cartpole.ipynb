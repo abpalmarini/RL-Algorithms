{
 "cells": [
  {
   "cell_type": "code",
   "execution_count": 1,
   "metadata": {},
   "outputs": [],
   "source": [
    "import numpy as np\n",
    "import gym\n",
    "\n",
    "import warnings # ignoring warning for comparing np array to string\n",
    "warnings.simplefilter(action='ignore', category=FutureWarning)"
   ]
  },
  {
   "cell_type": "code",
   "execution_count": 2,
   "metadata": {},
   "outputs": [],
   "source": [
    "env = gym.make('CartPole-v1')\n",
    "n_x = env.observation_space.shape[0] # input size to NN (4)\n",
    "n_h = 16                            # units in hidden layer\n",
    "n_y = env.action_space.n             # output size of NN (2)"
   ]
  },
  {
   "cell_type": "code",
   "execution_count": 3,
   "metadata": {},
   "outputs": [],
   "source": [
    "Q = {}\n",
    "# initialising weights of Q network\n",
    "Q['W1'] = np.random.randn(n_h, n_x) / np.sqrt(n_x) # Xavier initialisation \n",
    "Q['W2'] = np.random.randn(n_y, n_h) / np.sqrt(n_h)\n",
    "# keeping fixed weights to generate targets when performing updates\n",
    "Q['fW1'] = np.copy(Q['W1'])\n",
    "Q['fW2'] = np.copy(Q['W2'])\n",
    "\n",
    "# moving average for RMSprop\n",
    "SdW1 = np.zeros_like(Q['W1'])\n",
    "SdW2 = np.zeros_like(Q['W2'])"
   ]
  },
  {
   "cell_type": "code",
   "execution_count": 4,
   "metadata": {},
   "outputs": [],
   "source": [
    "epsilon = 1 # exploratry parameter for use in an epsilon-greedy policy\n",
    "epsilon_decay = 0.99\n",
    "min_epsilon = 0.1\n",
    "gamma = 0.99 # discount factor for future rewards\n",
    "learning_rate = 0.00001 \n",
    "beta = 0.99 # RMSprop decay rate"
   ]
  },
  {
   "cell_type": "code",
   "execution_count": 5,
   "metadata": {},
   "outputs": [],
   "source": [
    "D = []   # experience replay data storage\n",
    "N = 1000 # max capacity of D\n",
    "batch_size = 32\n",
    "fixed_Q_gap = 50 # iterations between freezing weights"
   ]
  },
  {
   "cell_type": "code",
   "execution_count": 6,
   "metadata": {},
   "outputs": [],
   "source": [
    "def select_action(state):\n",
    "    global epsilon\n",
    "    choice = np.random.rand()\n",
    "    if choice < epsilon:\n",
    "        action = env.action_space.sample()\n",
    "    else:\n",
    "        action_values, _ = Q_forward(state, fixed=False)\n",
    "        action = np.argmax(action_values)\n",
    "    return action"
   ]
  },
  {
   "cell_type": "code",
   "execution_count": 7,
   "metadata": {},
   "outputs": [],
   "source": [
    "def Q_forward(X, fixed=False):\n",
    "    W1 = Q['fW1'] if fixed else Q['W1']\n",
    "    W2 = Q['fW2'] if fixed else Q['W2']\n",
    "    \n",
    "    Z_h = np.dot(W1, X)\n",
    "    A_h = np.maximum(0, Z_h) # ReLU activation\n",
    "    Q_values = np.dot(W2, A_h)\n",
    "    return Q_values, A_h"
   ]
  },
  {
   "cell_type": "code",
   "execution_count": 8,
   "metadata": {},
   "outputs": [],
   "source": [
    "def sample_batch():\n",
    "    X, Y = np.empty([n_x, 0]), np.empty([n_y, 0])\n",
    "    indicies = np.random.choice(N, batch_size, replace=False)\n",
    "    for i in indicies:\n",
    "        state, action, reward, next_state = D[i]\n",
    "        X = np.append(X, state, axis=1) \n",
    "        y, _ = Q_forward(state, fixed=False) # initially setting to state Q-values\n",
    "        if next_state == 'T': # checking for terminal state\n",
    "            y[action] = reward + gamma * 0\n",
    "        else: # bootstrapping from fixed Q-Network\n",
    "            next_state_Q_values, _ = Q_forward(next_state, fixed=True) \n",
    "            y[action] = reward + gamma * np.max(next_state_Q_values)\n",
    "        Y = np.append(Y, y, axis=1)                   \n",
    "    return X, Y"
   ]
  },
  {
   "cell_type": "code",
   "execution_count": 9,
   "metadata": {},
   "outputs": [],
   "source": [
    "def backpropagate(X, Y):\n",
    "    Qs, A_h = Q_forward(X, fixed=False)\n",
    "    \n",
    "    dQ  = - (Y - Qs)\n",
    "    dW2 = np.dot(dQ, A_h.T) / batch_size\n",
    "    dA_h = np.dot(Q['W2'].T, dQ)\n",
    "    dZ_h = dA_h\n",
    "    dZ_h[A_h<=0] = 0 # derivative of ReLU\n",
    "    dW1 = np.dot(dZ_h, X.T) / batch_size\n",
    "    \n",
    "    global SdW1, SdW2\n",
    "    SdW1 = beta * SdW1 + (1 - beta) * np.square(dW1)\n",
    "    SdW2 = beta * SdW2 + (1 - beta) * np.square(dW2)\n",
    "    Q['W1'] = Q['W1'] - (learning_rate * dW1 / (np.sqrt(SdW1)+1e-8))\n",
    "    Q['W2'] = Q['W2'] - (learning_rate * dW2 / (np.sqrt(SdW2)+1e-8))"
   ]
  },
  {
   "cell_type": "code",
   "execution_count": 10,
   "metadata": {},
   "outputs": [],
   "source": [
    "def compute_cost(X, Y):\n",
    "    Qs, _ = Q_forward(X, fixed=False)\n",
    "    cost = np.sum(Y - Qs)**2 / (2 * batch_size)\n",
    "    return cost"
   ]
  },
  {
   "cell_type": "markdown",
   "metadata": {},
   "source": [
    "# Evaluating"
   ]
  },
  {
   "cell_type": "code",
   "execution_count": 11,
   "metadata": {},
   "outputs": [],
   "source": [
    "%matplotlib inline\n",
    "from matplotlib import pyplot as plt"
   ]
  },
  {
   "cell_type": "code",
   "execution_count": 12,
   "metadata": {},
   "outputs": [],
   "source": [
    "rewards = []\n",
    "total_steps = 0"
   ]
  },
  {
   "cell_type": "code",
   "execution_count": 13,
   "metadata": {},
   "outputs": [
    {
     "name": "stdout",
     "output_type": "stream",
     "text": [
      "Episode: 400\r"
     ]
    }
   ],
   "source": [
    "# Deep Q-Learning\n",
    "for episode in range(500):\n",
    "    state = env.reset().reshape([n_x, 1])\n",
    "    for t in range(200):\n",
    "        action = select_action(state)\n",
    "        next_state, reward, done, _ = env.step(action)\n",
    "        next_state = 'T' if done else np.reshape(next_state, [n_x, 1])\n",
    "        D.insert(0, (state, action, reward, next_state))\n",
    "        D = D[:N]\n",
    "        state = next_state\n",
    "        total_steps += 1\n",
    "        if total_steps >= N:\n",
    "            X, Y = sample_batch()\n",
    "            backpropagate(X, Y)\n",
    "        if total_steps % fixed_Q_gap == 0:\n",
    "            Q['fW1'] = np.copy(Q['W1'])\n",
    "            Q['fW2'] = np.copy(Q['W2'])\n",
    "        if done:\n",
    "            if epsilon > min_epsilon:\n",
    "                epsilon = epsilon * epsilon_decay\n",
    "            rewards.append(t+1)\n",
    "            if episode % 100 == 0:\n",
    "                print('Episode: {}'.format(episode), end='\\r')\n",
    "            break\n",
    "env.close()"
   ]
  },
  {
   "cell_type": "code",
   "execution_count": 14,
   "metadata": {},
   "outputs": [
    {
     "data": {
      "text/plain": [
       "Text(0, 0.5, 'Reward')"
      ]
     },
     "execution_count": 14,
     "metadata": {},
     "output_type": "execute_result"
    },
    {
     "data": {
      "image/png": "[encoded data removed]",
      "text/plain": [
       "<Figure size 432x288 with 1 Axes>"
      ]
     },
     "metadata": {
      "needs_background": "light"
     },
     "output_type": "display_data"
    }
   ],
   "source": [
    "plt.plot(rewards)\n",
    "plt.xlabel('Episodes')\n",
    "plt.ylabel('Reward')"
   ]
  },
  {
   "cell_type": "code",
   "execution_count": 15,
   "metadata": {},
   "outputs": [],
   "source": [
    "# Not exceptional, but it is clearly learning (max reward is 200). \n",
    "# If I come back to this I need a better way for testing hyperparameters."
   ]
  }
 ],
 "metadata": {
  "kernelspec": {
   "display_name": "Python 3",
   "language": "python",
   "name": "python3"
  },
  "language_info": {
   "codemirror_mode": {
    "name": "ipython",
    "version": 3
   },
   "file_extension": ".py",
   "mimetype": "text/x-python",
   "name": "python",
   "nbconvert_exporter": "python",
   "pygments_lexer": "ipython3",
   "version": "3.8.2"
  }
 },
 "nbformat": 4,
 "nbformat_minor": 4
}
